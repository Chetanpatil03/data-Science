{
 "cells": [
  {
   "cell_type": "code",
   "execution_count": 2,
   "id": "de8f595f-05b0-4ea4-a479-37cee7f7fff8",
   "metadata": {},
   "outputs": [
    {
     "name": "stdout",
     "output_type": "stream",
     "text": [
      "Requirement already satisfied: nltk in c:\\users\\imrd\\anaconda3\\lib\\site-packages (3.9.1)\n",
      "Requirement already satisfied: click in c:\\users\\imrd\\anaconda3\\lib\\site-packages (from nltk) (8.1.7)\n",
      "Requirement already satisfied: joblib in c:\\users\\imrd\\anaconda3\\lib\\site-packages (from nltk) (1.4.2)\n",
      "Requirement already satisfied: regex>=2021.8.3 in c:\\users\\imrd\\anaconda3\\lib\\site-packages (from nltk) (2024.9.11)\n",
      "Requirement already satisfied: tqdm in c:\\users\\imrd\\anaconda3\\lib\\site-packages (from nltk) (4.66.5)\n",
      "Requirement already satisfied: colorama in c:\\users\\imrd\\anaconda3\\lib\\site-packages (from click->nltk) (0.4.6)\n",
      "Note: you may need to restart the kernel to use updated packages.\n"
     ]
    }
   ],
   "source": [
    "pip install nltk"
   ]
  },
  {
   "cell_type": "code",
   "execution_count": 6,
   "id": "4a9f38e8-6d37-46c5-a13f-64d32601559e",
   "metadata": {},
   "outputs": [
    {
     "name": "stderr",
     "output_type": "stream",
     "text": [
      "[nltk_data] Downloading package punkt to\n",
      "[nltk_data]     C:\\Users\\IMRD\\AppData\\Roaming\\nltk_data...\n",
      "[nltk_data]   Package punkt is already up-to-date!\n",
      "[nltk_data] Downloading package punkt_tab to\n",
      "[nltk_data]     C:\\Users\\IMRD\\AppData\\Roaming\\nltk_data...\n",
      "[nltk_data]   Package punkt_tab is already up-to-date!\n",
      "[nltk_data] Downloading package wordnet to\n",
      "[nltk_data]     C:\\Users\\IMRD\\AppData\\Roaming\\nltk_data...\n",
      "[nltk_data] Downloading package stopwords to\n",
      "[nltk_data]     C:\\Users\\IMRD\\AppData\\Roaming\\nltk_data...\n",
      "[nltk_data]   Unzipping corpora\\stopwords.zip.\n"
     ]
    },
    {
     "data": {
      "text/plain": [
       "True"
      ]
     },
     "execution_count": 6,
     "metadata": {},
     "output_type": "execute_result"
    }
   ],
   "source": [
    "import nltk\n",
    "#download the 'punkt' tokenizer\n",
    "nltk.download('punkt')\n",
    "\n",
    "#download the 'punkty_tab' resourse, which is required for tokenization\n",
    "nltk.download('punkt_tab')\n",
    "\n",
    "#download the other necessary resources for lematization and stop worlds\n",
    "nltk.download('wordnet')\n",
    "nltk.download('stopwords')\n"
   ]
  },
  {
   "cell_type": "code",
   "execution_count": 9,
   "id": "52500c28-1363-428a-ae14-e675c7990f17",
   "metadata": {},
   "outputs": [],
   "source": [
    "from nltk.tokenize import word_tokenize\n",
    "from nltk.stem import PorterStemmer\n",
    "from nltk.stem import WordNetLemmatizer"
   ]
  },
  {
   "cell_type": "code",
   "execution_count": 11,
   "id": "7fb1a506-0390-488f-b3f2-f7cb2e95113c",
   "metadata": {},
   "outputs": [
    {
     "name": "stdout",
     "output_type": "stream",
     "text": [
      "Tokens :  ['Hello', 'i', 'am', 'chetan', 'bachchhav', 'and', 'currently', 'i', 'am', 'pursiving', 'mca', '.']\n"
     ]
    }
   ],
   "source": [
    "#sample text for tokenization\n",
    "text = \"Hello i am chetan bachchhav and currently i am pursiving mca.\"\n",
    "\n",
    "#tokenization : split text into words\n",
    "token = word_tokenize(text)\n",
    "print(\"Tokens : \",token)"
   ]
  },
  {
   "cell_type": "code",
   "execution_count": 17,
   "id": "64ed53d8-7e61-40fc-902b-7e9c7613d2c2",
   "metadata": {},
   "outputs": [
    {
     "name": "stdout",
     "output_type": "stream",
     "text": [
      "Stemmed words :  ['hello', 'i', 'am', 'chetan', 'bachchhav', 'and', 'current', 'i', 'am', 'pursiv', 'mca', '.']\n"
     ]
    }
   ],
   "source": [
    "# Stemming: Reduce words to their root from using porter stemmer\n",
    "stemmer = PorterStemmer()\n",
    "stemmed_words = [stemmer.stem(word) for word in token]\n",
    "print(\"Stemmed words : \",stemmed_words)"
   ]
  },
  {
   "cell_type": "code",
   "execution_count": 18,
   "id": "e0f0e70c-d433-4731-a66d-8a390e4c55bf",
   "metadata": {},
   "outputs": [
    {
     "name": "stdout",
     "output_type": "stream",
     "text": [
      "Lemmatized words (Default position = noun) ['Hello', 'i', 'am', 'chetan', 'bachchhav', 'and', 'currently', 'i', 'am', 'pursiving', 'mca', '.']\n"
     ]
    }
   ],
   "source": [
    "#lemmatization : Reduce words to their base from using WordNet lemmatizer\n",
    "lemmatizer = WordNetLemmatizer()\n",
    "lemmatized_words = [lemmatizer.lemmatize(word) for word in token]\n",
    "print(\"Lemmatized words (Default position = noun)\",lemmatized_words)"
   ]
  },
  {
   "cell_type": "code",
   "execution_count": 19,
   "id": "6482db66-930f-4a6b-9c0a-3a346cc7ff1d",
   "metadata": {},
   "outputs": [
    {
     "name": "stdout",
     "output_type": "stream",
     "text": [
      "Lemmatized words (as verbs) :  ['Hello', 'i', 'be', 'chetan', 'bachchhav', 'and', 'currently', 'i', 'be', 'pursiving', 'mca', '.']\n"
     ]
    }
   ],
   "source": [
    "#Optional : Lematization with POS taggging (verbs,odjectives, etc)\n",
    "lemmatize_verbs = [lemmatizer.lemmatize(word,pos='v') for word in token]\n",
    "print(\"Lemmatized words (as verbs) : \",lemmatize_verbs)"
   ]
  }
 ],
 "metadata": {
  "kernelspec": {
   "display_name": "Python 3 (ipykernel)",
   "language": "python",
   "name": "python3"
  },
  "language_info": {
   "codemirror_mode": {
    "name": "ipython",
    "version": 3
   },
   "file_extension": ".py",
   "mimetype": "text/x-python",
   "name": "python",
   "nbconvert_exporter": "python",
   "pygments_lexer": "ipython3",
   "version": "3.12.7"
  }
 },
 "nbformat": 4,
 "nbformat_minor": 5
}
