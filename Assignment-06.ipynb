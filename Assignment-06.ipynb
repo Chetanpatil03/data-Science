{
 "cells": [
  {
   "cell_type": "code",
   "execution_count": 1,
   "id": "04c0b6b4-34f0-4821-b35c-828959304bb6",
   "metadata": {},
   "outputs": [
    {
     "name": "stdout",
     "output_type": "stream",
     "text": [
      "   feature_0  feature_1  feature_2  feature_3  feature_4  feature_5  \\\n",
      "0   0.496714  -0.138264   0.647689   1.523030  -0.234153  -0.234137   \n",
      "1  -0.463418  -0.465730   0.241962  -1.913280  -1.724918  -0.562288   \n",
      "2   1.465649  -0.225776   0.067528  -1.424748  -0.544383   0.110923   \n",
      "3  -0.601707   1.852278  -0.013497  -1.057711   0.822545  -1.220844   \n",
      "4   0.738467   0.171368  -0.115648  -0.301104  -1.478522  -0.719844   \n",
      "\n",
      "   feature_6  feature_7  feature_8  feature_9  target  \n",
      "0   1.579213   0.767435  -0.469474   0.542560       1  \n",
      "1  -1.012831   0.314247  -0.908024  -1.412304       1  \n",
      "2  -1.150994   0.375698  -0.600639  -0.291694       0  \n",
      "3   0.208864  -1.959670  -1.328186   0.196861       0  \n",
      "4  -0.460639   1.057122   0.343618  -1.763040       0  \n",
      "Accuracy of Random Forest (Bagging) model: 0.5300\n"
     ]
    }
   ],
   "source": [
    "# Write a program to implementing Bagging using Random Forest.\n",
    "\n",
    "# Import necessary libraries\n",
    "import pandas as pd\n",
    "from sklearn.model_selection import train_test_split\n",
    "from sklearn.ensemble import RandomForestClassifier\n",
    "from sklearn.metrics import accuracy_score\n",
    "from sklearn.preprocessing import LabelEncoder\n",
    "\n",
    "# Load CSV file (replace 'your_dataset.csv' with your actual dataset file path)\n",
    "df = pd.read_csv('log.csv')\n",
    "\n",
    "# Check the first few rows of the dataset\n",
    "print(df.head())\n",
    "\n",
    "# Preprocess the dataset\n",
    "# Assuming the last column is the target variable (y)\n",
    "# Adjust accordingly based on your dataset structure\n",
    "\n",
    "# If there are categorical features, encode them\n",
    "# You can use pd.get_dummies() for one-hot encoding or LabelEncoder for ordinal encoding\n",
    "\n",
    "# Assuming 'target' is the column name for the labels\n",
    "\n",
    "X = df.iloc[:, :-1].values  # All rows, all columns except the last one\n",
    "y = df.iloc[:, -1].values   # Last column is the target\n",
    "\n",
    "# Split the dataset into training and testing sets\n",
    "X_train, X_test, y_train, y_test = train_test_split(X, y, test_size=0.3, random_state=42)\n",
    "\n",
    "# Initialize the RandomForestClassifier (Bagging using Decision Trees)\n",
    "random_forest = RandomForestClassifier(n_estimators=100, random_state=42)\n",
    "\n",
    "# Train the Random Forest model\n",
    "random_forest.fit(X_train, y_train)\n",
    "\n",
    "# Make predictions on the test set\n",
    "y_pred = random_forest.predict(X_test)\n",
    "\n",
    "# Evaluate the model\n",
    "accuracy = accuracy_score(y_test, y_pred)\n",
    "print(f'Accuracy of Random Forest (Bagging) model: {accuracy:.4f}')\n"
   ]
  }
 ],
 "metadata": {
  "kernelspec": {
   "display_name": "Python 3 (ipykernel)",
   "language": "python",
   "name": "python3"
  },
  "language_info": {
   "codemirror_mode": {
    "name": "ipython",
    "version": 3
   },
   "file_extension": ".py",
   "mimetype": "text/x-python",
   "name": "python",
   "nbconvert_exporter": "python",
   "pygments_lexer": "ipython3",
   "version": "3.12.7"
  }
 },
 "nbformat": 4,
 "nbformat_minor": 5
}
