{
 "cells": [
  {
   "cell_type": "code",
   "execution_count": 1,
   "id": "bd77a33d-cc49-473f-9866-f33b8d6a6649",
   "metadata": {},
   "outputs": [
    {
     "name": "stdout",
     "output_type": "stream",
     "text": [
      "Collecting pymongo\n",
      "  Downloading pymongo-4.11.3-cp312-cp312-win_amd64.whl.metadata (22 kB)\n",
      "Collecting dnspython<3.0.0,>=1.16.0 (from pymongo)\n",
      "  Downloading dnspython-2.7.0-py3-none-any.whl.metadata (5.8 kB)\n",
      "Downloading pymongo-4.11.3-cp312-cp312-win_amd64.whl (882 kB)\n",
      "   ---------------------------------------- 0.0/882.3 kB ? eta -:--:--\n",
      "   --------------------------------------- 882.3/882.3 kB 20.0 MB/s eta 0:00:00\n",
      "Downloading dnspython-2.7.0-py3-none-any.whl (313 kB)\n",
      "Installing collected packages: dnspython, pymongo\n",
      "Successfully installed dnspython-2.7.0 pymongo-4.11.3\n",
      "Note: you may need to restart the kernel to use updated packages.\n"
     ]
    }
   ],
   "source": [
    "pip install pymongo"
   ]
  },
  {
   "cell_type": "code",
   "execution_count": 1,
   "id": "0a2e3e38-43c8-4bc5-8e59-d1bbef26af6c",
   "metadata": {},
   "outputs": [
    {
     "name": "stdout",
     "output_type": "stream",
     "text": [
      "Document inserted with ID:67ff413efc0905f3b271e7a1\n",
      "Found User: {'_id': ObjectId('67f60e004d63a771fc2621f8'), 'name': 'john deo', 'age': 30, 'email': 'john.deo@example.com'}\n",
      "Documents matched:(1,Documents modified: 1\n",
      "Documents deleted:1\n",
      "Found User: {'_id': ObjectId('67f60e754d63a771fc2621fa'), 'name': 'john deo', 'age': 30, 'email': 'john.deo@example.com'}\n"
     ]
    }
   ],
   "source": [
    "from pymongo import MongoClient\n",
    "\n",
    "client = MongoClient(\"mongodb://localhost:27017/\")\n",
    "db=client['mydatabase']\n",
    "collection=db['users']\n",
    "\n",
    "user_data={\n",
    "    'name':'john deo',\n",
    "    'age':30,\n",
    "    'email':'john.deo@example.com'\n",
    "}\n",
    "\n",
    "result=collection.insert_one(user_data)\n",
    "print(f\"Document inserted with ID:{result.inserted_id}\")\n",
    "\n",
    "user=collection.find_one({\"name\":\"john deo\"})\n",
    "print(\"Found User:\",user)\n",
    "\n",
    "update_result=collection.update_one(\n",
    "    {\"name\":\"john deo\"},\n",
    "    {\"$set\":{\"age\":31}}\n",
    ")\n",
    "print(f\"Documents matched:({update_result.matched_count},Documents modified: {update_result.modified_count}\")\n",
    "\n",
    "delete_result=collection.delete_one({\"name\":\"john deo\"})\n",
    "print(f\"Documents deleted:{delete_result.deleted_count}\")\n",
    "\n",
    "user1=collection.find_one({\"name\":\"john deo\"})\n",
    "print(\"Found User:\",user1)\n"
   ]
  },
  {
   "cell_type": "code",
   "execution_count": 2,
   "id": "ed15b7f9-5ec2-4e9a-84a9-3e1512942a7a",
   "metadata": {},
   "outputs": [
    {
     "name": "stdout",
     "output_type": "stream",
     "text": [
      "{'_id': ObjectId('67f60e754d63a771fc2621fa'), 'name': 'john deo', 'age': 30, 'email': 'john.deo@example.com'}\n",
      "{'_id': ObjectId('67f60e854d63a771fc2621fc'), 'name': 'john deo', 'age': 30, 'email': 'john.deo@example.com'}\n",
      "{'_id': ObjectId('67f60e8e4d63a771fc2621fe'), 'name': 'john deo', 'age': 30, 'email': 'john.deo@example.com'}\n",
      "{'_id': ObjectId('67f60e9f4d63a771fc262200'), 'name': 'john deo', 'age': 30, 'email': 'john.deo@example.com'}\n",
      "{'_id': ObjectId('67f60eca4d63a771fc262202'), 'name': 'john deo', 'age': 30, 'email': 'john.deo@example.com'}\n",
      "{'_id': ObjectId('67f60edd4d63a771fc262204'), 'name': 'john deo', 'age': 30, 'email': 'john.deo@example.com'}\n",
      "{'_id': ObjectId('67ff413efc0905f3b271e7a1'), 'name': 'john deo', 'age': 30, 'email': 'john.deo@example.com'}\n"
     ]
    }
   ],
   "source": [
    "\n",
    "allDocs=collection.find()\n",
    "\n",
    "for doc in allDocs:\n",
    "    print(doc)"
   ]
  }
 ],
 "metadata": {
  "kernelspec": {
   "display_name": "Python 3 (ipykernel)",
   "language": "python",
   "name": "python3"
  },
  "language_info": {
   "codemirror_mode": {
    "name": "ipython",
    "version": 3
   },
   "file_extension": ".py",
   "mimetype": "text/x-python",
   "name": "python",
   "nbconvert_exporter": "python",
   "pygments_lexer": "ipython3",
   "version": "3.12.7"
  }
 },
 "nbformat": 4,
 "nbformat_minor": 5
}
